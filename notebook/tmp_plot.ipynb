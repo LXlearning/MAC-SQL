{
 "cells": [
  {
   "cell_type": "code",
   "execution_count": null,
   "metadata": {},
   "outputs": [],
   "source": [
    "import matplotlib.pyplot as plt\n",
    "## -----mac OS系统中文&正负号显示-----\n",
    "plt.rcParams['font.sans-serif'] = ['Arial Unicode MS']\n",
    "plt.rcParams['axes.unicode_minus'] = False\n",
    "# 假设的1-5月零售贷款数据\n",
    "months = ['1月', '2月', '3月', '4月', '5月']\n",
    "loan_amounts = [160, 140, 154, 180, 210]  # 假设的贷款金额数据，单位：百万\n",
    "\n",
    "# 绘制趋势图\n",
    "plt.figure(figsize=(6, 4))\n",
    "plt.plot(months, loan_amounts, marker='o')\n",
    "# plt.title('1-5月零售贷款情况趋势图')\n",
    "plt.xlabel('月份',fontsize=14)\n",
    "plt.ylabel('零售贷款金额 (百万)',fontsize=14)\n",
    "\n",
    "# plt.grid(True)\n",
    "plt.show();\n"
   ]
  }
 ],
 "metadata": {
  "language_info": {
   "name": "python"
  }
 },
 "nbformat": 4,
 "nbformat_minor": 2
}
