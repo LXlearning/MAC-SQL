{
 "cells": [
  {
   "cell_type": "code",
   "execution_count": 62,
   "metadata": {},
   "outputs": [
    {
     "name": "stdout",
     "output_type": "stream",
     "text": [
      "The autoreload extension is already loaded. To reload it, use:\n",
      "  %reload_ext autoreload\n"
     ]
    }
   ],
   "source": [
    "import json\n",
    "import numpy as np\n",
    "import pandas as pd\n",
    "import sys\n",
    "from IPython.core.interactiveshell import InteractiveShell\n",
    "InteractiveShell.ast_node_interactivity = \"all\" \n",
    "pd.set_option('display.max_colwidth', 300)\n",
    "sys.path.append(\"../\")\n",
    "%load_ext autoreload\n",
    "%autoreload 2\n",
    "from core.utils import load_json_file, load_jsonl_file"
   ]
  },
  {
   "cell_type": "code",
   "execution_count": 77,
   "metadata": {},
   "outputs": [
    {
     "name": "stdout",
     "output_type": "stream",
     "text": [
      "load json file from ../data/CSpider/train.json\n"
     ]
    },
    {
     "data": {
      "text/plain": [
       "8659"
      ]
     },
     "execution_count": 77,
     "metadata": {},
     "output_type": "execute_result"
    }
   ],
   "source": [
    "input_file = '../data/CSpider/train.json'\n",
    "batch = load_json_file(input_file)\n",
    "len(batch)"
   ]
  },
  {
   "cell_type": "code",
   "execution_count": 6,
   "metadata": {},
   "outputs": [
    {
     "name": "stdout",
     "output_type": "stream",
     "text": [
      "load json file from ../data/CSpider/dev.json\n"
     ]
    },
    {
     "data": {
      "text/plain": [
       "1034"
      ]
     },
     "execution_count": 6,
     "metadata": {},
     "output_type": "execute_result"
    }
   ],
   "source": [
    "input_file = '../data/CSpider/dev.json'\n",
    "batch = load_json_file(input_file)\n",
    "len(batch)"
   ]
  },
  {
   "cell_type": "code",
   "execution_count": 12,
   "metadata": {},
   "outputs": [
    {
     "data": {
      "text/html": [
       "<div>\n",
       "<style scoped>\n",
       "    .dataframe tbody tr th:only-of-type {\n",
       "        vertical-align: middle;\n",
       "    }\n",
       "\n",
       "    .dataframe tbody tr th {\n",
       "        vertical-align: top;\n",
       "    }\n",
       "\n",
       "    .dataframe thead th {\n",
       "        text-align: right;\n",
       "    }\n",
       "</style>\n",
       "<table border=\"1\" class=\"dataframe\">\n",
       "  <thead>\n",
       "    <tr style=\"text-align: right;\">\n",
       "      <th></th>\n",
       "      <th>db_id</th>\n",
       "      <th>query_toks_no_value</th>\n",
       "      <th>question_toks</th>\n",
       "      <th>query_toks</th>\n",
       "      <th>question</th>\n",
       "      <th>sql</th>\n",
       "      <th>query</th>\n",
       "    </tr>\n",
       "  </thead>\n",
       "  <tbody>\n",
       "    <tr>\n",
       "      <th>653</th>\n",
       "      <td>poker_player</td>\n",
       "      <td>[select, avg, (, earnings, ), from, poker_player]</td>\n",
       "      <td>[扑, 克, 玩, 家, 的, 平, 均, 收, 入, 是, 多, 少, ？]</td>\n",
       "      <td>[select, avg, (, earnings, ), from, poker_player]</td>\n",
       "      <td>扑克玩家的平均收入是多少？</td>\n",
       "      <td>{'orderBy': [], 'from': {'table_units': [['tab...</td>\n",
       "      <td>SELECT avg(Earnings) FROM poker_player</td>\n",
       "    </tr>\n",
       "    <tr>\n",
       "      <th>413</th>\n",
       "      <td>museum_visit</td>\n",
       "      <td>[select, avg, (, age, ), from, visitor, where,...</td>\n",
       "      <td>[会, 员, 级, 别, 不, 高, 于, 4, 的, 游, 客, 的, 平, 均, 年, ...</td>\n",
       "      <td>[select, avg, (, age, ), from, visitor, where,...</td>\n",
       "      <td>会员级别不高于4的游客的平均年龄是多少？</td>\n",
       "      <td>{'orderBy': [], 'from': {'table_units': [['tab...</td>\n",
       "      <td>SELECT avg(age) FROM visitor WHERE Level_of_me...</td>\n",
       "    </tr>\n",
       "    <tr>\n",
       "      <th>160</th>\n",
       "      <td>car_1</td>\n",
       "      <td>[select, count, (, *, ), from, cars_data, wher...</td>\n",
       "      <td>[加, 速, 度, 比, 马, 力, 最, 大, 的, 汽, 车, 更, 大, 的, 汽, ...</td>\n",
       "      <td>[select, count, (, *, ), from, cars_data, wher...</td>\n",
       "      <td>加速度比马力最大的汽车更大的汽车有多少辆？</td>\n",
       "      <td>{'orderBy': [], 'from': {'table_units': [['tab...</td>\n",
       "      <td>SELECT COUNT(*) FROM CARS_DATA WHERE Accelerat...</td>\n",
       "    </tr>\n",
       "  </tbody>\n",
       "</table>\n",
       "</div>"
      ],
      "text/plain": [
       "            db_id                                query_toks_no_value  \\\n",
       "653  poker_player  [select, avg, (, earnings, ), from, poker_player]   \n",
       "413  museum_visit  [select, avg, (, age, ), from, visitor, where,...   \n",
       "160         car_1  [select, count, (, *, ), from, cars_data, wher...   \n",
       "\n",
       "                                         question_toks  \\\n",
       "653            [扑, 克, 玩, 家, 的, 平, 均, 收, 入, 是, 多, 少, ？]   \n",
       "413  [会, 员, 级, 别, 不, 高, 于, 4, 的, 游, 客, 的, 平, 均, 年, ...   \n",
       "160  [加, 速, 度, 比, 马, 力, 最, 大, 的, 汽, 车, 更, 大, 的, 汽, ...   \n",
       "\n",
       "                                            query_toks               question  \\\n",
       "653  [select, avg, (, earnings, ), from, poker_player]          扑克玩家的平均收入是多少？   \n",
       "413  [select, avg, (, age, ), from, visitor, where,...   会员级别不高于4的游客的平均年龄是多少？   \n",
       "160  [select, count, (, *, ), from, cars_data, wher...  加速度比马力最大的汽车更大的汽车有多少辆？   \n",
       "\n",
       "                                                   sql  \\\n",
       "653  {'orderBy': [], 'from': {'table_units': [['tab...   \n",
       "413  {'orderBy': [], 'from': {'table_units': [['tab...   \n",
       "160  {'orderBy': [], 'from': {'table_units': [['tab...   \n",
       "\n",
       "                                                 query  \n",
       "653             SELECT avg(Earnings) FROM poker_player  \n",
       "413  SELECT avg(age) FROM visitor WHERE Level_of_me...  \n",
       "160  SELECT COUNT(*) FROM CARS_DATA WHERE Accelerat...  "
      ]
     },
     "execution_count": 12,
     "metadata": {},
     "output_type": "execute_result"
    }
   ],
   "source": [
    "df = pd.DataFrame(batch)\n",
    "df.sample(3)"
   ]
  },
  {
   "cell_type": "code",
   "execution_count": 21,
   "metadata": {},
   "outputs": [
    {
     "name": "stdout",
     "output_type": "stream",
     "text": [
      "返回代号为“AKO”的机场名称。\n",
      "select airportname from airports where airportcode = \"AKO\"\n"
     ]
    }
   ],
   "source": [
    "i = 200\n",
    "print(''.join(df.loc[i,'question_toks']))\n",
    "print(' '.join(df.loc[i,'query_toks']))\n",
    "# print(df.loc[i,'sql'])"
   ]
  },
  {
   "cell_type": "markdown",
   "metadata": {},
   "source": [
    "## 推理结果"
   ]
  },
  {
   "cell_type": "code",
   "execution_count": 53,
   "metadata": {},
   "outputs": [
    {
     "name": "stdout",
     "output_type": "stream",
     "text": [
      "load jsonl file from ../outputs/Cspider/output_spider.json\n"
     ]
    },
    {
     "data": {
      "text/plain": [
       "345"
      ]
     },
     "execution_count": 53,
     "metadata": {},
     "output_type": "execute_result"
    }
   ],
   "source": [
    "input_file = '../outputs/Cspider/output_spider.json'\n",
    "batch = load_jsonl_file(input_file)\n",
    "df = pd.DataFrame(batch)\n",
    "len(batch)"
   ]
  },
  {
   "cell_type": "code",
   "execution_count": 76,
   "metadata": {},
   "outputs": [],
   "source": [
    "# with open('../outputs/Cspider_pred_all/output.json', 'w') as file:\n",
    "#     for item in df['pred'].str.replace('\\n', ' '):\n",
    "#         a = file.write(\"%s\\n\" % item)"
   ]
  },
  {
   "cell_type": "code",
   "execution_count": 70,
   "metadata": {},
   "outputs": [
    {
     "data": {
      "text/html": [
       "<div>\n",
       "<style scoped>\n",
       "    .dataframe tbody tr th:only-of-type {\n",
       "        vertical-align: middle;\n",
       "    }\n",
       "\n",
       "    .dataframe tbody tr th {\n",
       "        vertical-align: top;\n",
       "    }\n",
       "\n",
       "    .dataframe thead th {\n",
       "        text-align: right;\n",
       "    }\n",
       "</style>\n",
       "<table border=\"1\" class=\"dataframe\">\n",
       "  <thead>\n",
       "    <tr style=\"text-align: right;\">\n",
       "      <th></th>\n",
       "      <th>db_id</th>\n",
       "      <th>query</th>\n",
       "      <th>qa_pairs</th>\n",
       "      <th>pred</th>\n",
       "    </tr>\n",
       "  </thead>\n",
       "  <tbody>\n",
       "    <tr>\n",
       "      <th>0</th>\n",
       "      <td>concert_singer</td>\n",
       "      <td>我们有多少歌手？</td>\n",
       "      <td>```sql\\nSELECT COUNT(*) FROM singer\\n```</td>\n",
       "      <td>SELECT COUNT(*) FROM singer</td>\n",
       "    </tr>\n",
       "    <tr>\n",
       "      <th>1</th>\n",
       "      <td>concert_singer</td>\n",
       "      <td>歌手的总数是多少？</td>\n",
       "      <td>```sql\\nSELECT COUNT(*) FROM singer\\n```</td>\n",
       "      <td>SELECT COUNT(*) FROM singer</td>\n",
       "    </tr>\n",
       "    <tr>\n",
       "      <th>2</th>\n",
       "      <td>concert_singer</td>\n",
       "      <td>按歌手年龄从最大到最小，显示每个歌手的姓名、国家、年龄。</td>\n",
       "      <td>```sql\\nSELECT `Name`, `Country`, `Age` FROM singer ORDER BY `Age` DESC\\n```</td>\n",
       "      <td>SELECT `Name`, `Country`, `Age` FROM singer ORDER BY `Age` DESC</td>\n",
       "    </tr>\n",
       "    <tr>\n",
       "      <th>3</th>\n",
       "      <td>concert_singer</td>\n",
       "      <td>按年龄降序，每个歌手的名字、国家、年龄是什么？</td>\n",
       "      <td>```sql\\nSELECT `Name`, `Country`, `Age` FROM singer ORDER BY `Age` DESC\\n```</td>\n",
       "      <td>SELECT `Name`, `Country`, `Age` FROM singer ORDER BY `Age` DESC</td>\n",
       "    </tr>\n",
       "    <tr>\n",
       "      <th>4</th>\n",
       "      <td>concert_singer</td>\n",
       "      <td>法国所有歌手的平均年龄、最小年龄和最大年龄是多少？</td>\n",
       "      <td>```sql\\nSELECT AVG(Age), MIN(Age), MAX(Age) FROM singer WHERE Country = 'France'\\n```</td>\n",
       "      <td>SELECT AVG(Age), MIN(Age), MAX(Age) FROM singer WHERE Country = 'France'</td>\n",
       "    </tr>\n",
       "    <tr>\n",
       "      <th>5</th>\n",
       "      <td>concert_singer</td>\n",
       "      <td>所有法国歌手的平均年龄、最小年龄和最大年龄是多少？</td>\n",
       "      <td>```sql\\nSELECT \\n  AVG(Age) AS \"Average Age\",\\n  MIN(Age) AS \"Minimum Age\",\\n  MAX(Age) AS \"Maximum Age\"\\nFROM singer\\nWHERE Country = 'France'\\n```</td>\n",
       "      <td>SELECT \\n  AVG(Age) AS \"Average Age\",\\n  MIN(Age) AS \"Minimum Age\",\\n  MAX(Age) AS \"Maximum Age\"\\nFROM singer\\nWHERE Country = 'France'</td>\n",
       "    </tr>\n",
       "    <tr>\n",
       "      <th>6</th>\n",
       "      <td>concert_singer</td>\n",
       "      <td>显示最年轻歌手的歌曲的名字和发行年份。</td>\n",
       "      <td>```sql\\nSELECT `Song_Name`, `Song_release_year` FROM singer WHERE Age = (SELECT MIN(Age) FROM singer)\\n```</td>\n",
       "      <td>SELECT `Song_Name`, `Song_release_year` FROM singer WHERE Age = (SELECT MIN(Age) FROM singer)</td>\n",
       "    </tr>\n",
       "    <tr>\n",
       "      <th>7</th>\n",
       "      <td>concert_singer</td>\n",
       "      <td>最年轻歌手的所有歌曲的名字和发行年是多少？</td>\n",
       "      <td>```sql\\nSELECT `Song_Name`, `Song_release_year` \\nFROM singer \\nWHERE Age = (SELECT MIN(Age) FROM singer)\\n```</td>\n",
       "      <td>SELECT `Song_Name`, `Song_release_year` \\nFROM singer \\nWHERE Age = (SELECT MIN(Age) FROM singer)</td>\n",
       "    </tr>\n",
       "    <tr>\n",
       "      <th>8</th>\n",
       "      <td>concert_singer</td>\n",
       "      <td>20岁以上的歌手来自哪些不同国家？</td>\n",
       "      <td>```sql\\nSELECT DISTINCT(`Country`) FROM singer WHERE `Age` &gt; 20\\n```</td>\n",
       "      <td>SELECT DISTINCT(`Country`) FROM singer WHERE `Age` &gt; 20</td>\n",
       "    </tr>\n",
       "    <tr>\n",
       "      <th>9</th>\n",
       "      <td>concert_singer</td>\n",
       "      <td>哪些国家有20岁以上的歌手？</td>\n",
       "      <td>```sql\\nSELECT DISTINCT `Country` FROM singer WHERE Age &gt; 20\\n```</td>\n",
       "      <td>SELECT DISTINCT `Country` FROM singer WHERE Age &gt; 20</td>\n",
       "    </tr>\n",
       "  </tbody>\n",
       "</table>\n",
       "</div>"
      ],
      "text/plain": [
       "            db_id                         query                                                                                                                                              qa_pairs  \\\n",
       "0  concert_singer                      我们有多少歌手？                                                                                                              ```sql\\nSELECT COUNT(*) FROM singer\\n```   \n",
       "1  concert_singer                     歌手的总数是多少？                                                                                                              ```sql\\nSELECT COUNT(*) FROM singer\\n```   \n",
       "2  concert_singer  按歌手年龄从最大到最小，显示每个歌手的姓名、国家、年龄。                                                                          ```sql\\nSELECT `Name`, `Country`, `Age` FROM singer ORDER BY `Age` DESC\\n```   \n",
       "3  concert_singer       按年龄降序，每个歌手的名字、国家、年龄是什么？                                                                          ```sql\\nSELECT `Name`, `Country`, `Age` FROM singer ORDER BY `Age` DESC\\n```   \n",
       "4  concert_singer     法国所有歌手的平均年龄、最小年龄和最大年龄是多少？                                                                 ```sql\\nSELECT AVG(Age), MIN(Age), MAX(Age) FROM singer WHERE Country = 'France'\\n```   \n",
       "5  concert_singer     所有法国歌手的平均年龄、最小年龄和最大年龄是多少？  ```sql\\nSELECT \\n  AVG(Age) AS \"Average Age\",\\n  MIN(Age) AS \"Minimum Age\",\\n  MAX(Age) AS \"Maximum Age\"\\nFROM singer\\nWHERE Country = 'France'\\n```   \n",
       "6  concert_singer           显示最年轻歌手的歌曲的名字和发行年份。                                            ```sql\\nSELECT `Song_Name`, `Song_release_year` FROM singer WHERE Age = (SELECT MIN(Age) FROM singer)\\n```   \n",
       "7  concert_singer         最年轻歌手的所有歌曲的名字和发行年是多少？                                        ```sql\\nSELECT `Song_Name`, `Song_release_year` \\nFROM singer \\nWHERE Age = (SELECT MIN(Age) FROM singer)\\n```   \n",
       "8  concert_singer             20岁以上的歌手来自哪些不同国家？                                                                                  ```sql\\nSELECT DISTINCT(`Country`) FROM singer WHERE `Age` > 20\\n```   \n",
       "9  concert_singer                哪些国家有20岁以上的歌手？                                                                                     ```sql\\nSELECT DISTINCT `Country` FROM singer WHERE Age > 20\\n```   \n",
       "\n",
       "                                                                                                                                      pred  \n",
       "0                                                                                                              SELECT COUNT(*) FROM singer  \n",
       "1                                                                                                              SELECT COUNT(*) FROM singer  \n",
       "2                                                                          SELECT `Name`, `Country`, `Age` FROM singer ORDER BY `Age` DESC  \n",
       "3                                                                          SELECT `Name`, `Country`, `Age` FROM singer ORDER BY `Age` DESC  \n",
       "4                                                                 SELECT AVG(Age), MIN(Age), MAX(Age) FROM singer WHERE Country = 'France'  \n",
       "5  SELECT \\n  AVG(Age) AS \"Average Age\",\\n  MIN(Age) AS \"Minimum Age\",\\n  MAX(Age) AS \"Maximum Age\"\\nFROM singer\\nWHERE Country = 'France'  \n",
       "6                                            SELECT `Song_Name`, `Song_release_year` FROM singer WHERE Age = (SELECT MIN(Age) FROM singer)  \n",
       "7                                        SELECT `Song_Name`, `Song_release_year` \\nFROM singer \\nWHERE Age = (SELECT MIN(Age) FROM singer)  \n",
       "8                                                                                  SELECT DISTINCT(`Country`) FROM singer WHERE `Age` > 20  \n",
       "9                                                                                     SELECT DISTINCT `Country` FROM singer WHERE Age > 20  "
      ]
     },
     "execution_count": 70,
     "metadata": {},
     "output_type": "execute_result"
    }
   ],
   "source": [
    "df[['db_id','query', 'qa_pairs', 'pred']].head(10)"
   ]
  },
  {
   "cell_type": "code",
   "execution_count": null,
   "metadata": {},
   "outputs": [],
   "source": []
  }
 ],
 "metadata": {
  "kernelspec": {
   "display_name": "lx",
   "language": "python",
   "name": "python3"
  },
  "language_info": {
   "codemirror_mode": {
    "name": "ipython",
    "version": 3
   },
   "file_extension": ".py",
   "mimetype": "text/x-python",
   "name": "python",
   "nbconvert_exporter": "python",
   "pygments_lexer": "ipython3",
   "version": "3.9.12"
  }
 },
 "nbformat": 4,
 "nbformat_minor": 2
}
